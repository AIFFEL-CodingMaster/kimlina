{
 "cells": [
  {
   "cell_type": "markdown",
   "metadata": {},
   "source": [
    "## class 예제 만들기"
   ]
  },
  {
   "cell_type": "code",
   "execution_count": null,
   "metadata": {},
   "outputs": [],
   "source": [
    "class airplane:\n",
    "    part_list = [\"날개\", \"창문\", \"바퀴\", \"조종실\"]\n",
    "    where = \"sky\"\n",
    "    power = 'off'\n",
    "    \n",
    "    def __init__()"
   ]
  },
  {
   "cell_type": "markdown",
   "metadata": {},
   "source": [
    "## 카페로 만들기"
   ]
  },
  {
   "cell_type": "markdown",
   "metadata": {},
   "source": [
    "* 속성\n",
    "    * 테이블\n",
    "    * 메뉴판\n",
    "    * 무인\n",
    "    * 커피원두\n",
    "    * 오늘의 커피\n",
    "    * 오늘의주문량"
   ]
  },
  {
   "cell_type": "markdown",
   "metadata": {},
   "source": [
    "* 기능\n",
    "    * 주문받기\n",
    "    * 커피만들기\n",
    "    * 완료알림"
   ]
  },
  {
   "cell_type": "code",
   "execution_count": 3,
   "metadata": {},
   "outputs": [
    {
     "ename": "SyntaxError",
     "evalue": "invalid syntax (<ipython-input-3-953c48a8194d>, line 4)",
     "output_type": "error",
     "traceback": [
      "\u001b[0;36m  File \u001b[0;32m\"<ipython-input-3-953c48a8194d>\"\u001b[0;36m, line \u001b[0;32m4\u001b[0m\n\u001b[0;31m    def __init__(self, 테이블수, 메뉴판, 커피원두, 오늘의 커피):\u001b[0m\n\u001b[0m                                             ^\u001b[0m\n\u001b[0;31mSyntaxError\u001b[0m\u001b[0;31m:\u001b[0m invalid syntax\n"
     ]
    }
   ],
   "source": [
    "class Cafe:\n",
    "    무인 = False\n",
    "    \n",
    "    def __init__(self, 테이블수, 메뉴판, 커피원두, 오늘의 커피):\n",
    "        self.테이블수 = 테이블수\n",
    "        self.메뉴판 + 메뉴판\n",
    "        self.커피원두 = 커피원두\n",
    "        self.오늘의커피 = 오늘의 커피\n",
    "        \n",
    "    def 주문받기(self, 주문=\"아메리카노\"):\n",
    "        if 주문 not in self.메뉴판:\n",
    "            raise IndexError(\"주문하신 음료가 메뉴에 없습니다\")\n",
    "            \n",
    "        else:\n",
    "            print(f\"{주문} 1잔 주문 받았습니다\")\n",
    "            self.오늘의주문량 += 1\n",
    "            \n",
    "    \n",
    "    def 커피만들기(self):\n",
    "        print(\"커피만들기 시작\")\n",
    "        print(\"...\")\n",
    "        print(\"커피완성\")\n",
    "        \n",
    "    def 완료알림(self):\n",
    "        print(\"주문하시 음료 나왔습니다\")"
   ]
  },
  {
   "cell_type": "code",
   "execution_count": 2,
   "metadata": {},
   "outputs": [
    {
     "ename": "NameError",
     "evalue": "name 'Cafe' is not defined",
     "output_type": "error",
     "traceback": [
      "\u001b[0;31m---------------------------------------------------------------------------\u001b[0m",
      "\u001b[0;31mNameError\u001b[0m                                 Traceback (most recent call last)",
      "\u001b[0;32m<ipython-input-2-5b5b4e1425e3>\u001b[0m in \u001b[0;36m<module>\u001b[0;34m\u001b[0m\n\u001b[0;32m----> 1\u001b[0;31m \u001b[0mstarbucks\u001b[0m \u001b[0;34m=\u001b[0m \u001b[0mCafe\u001b[0m\u001b[0;34m(\u001b[0m\u001b[0;36m30\u001b[0m\u001b[0;34m,\u001b[0m \u001b[0;34m[\u001b[0m\u001b[0;34m\"아메리카노\"\u001b[0m\u001b[0;34m,\u001b[0m \u001b[0;34m\"돌체라떼\"\u001b[0m\u001b[0;34m,\u001b[0m \u001b[0;34m\"자바칩프라프치노\"\u001b[0m\u001b[0;34m,\u001b[0m \u001b[0;34m\"소이라떼\"\u001b[0m\u001b[0;34m,\u001b[0m \u001b[0;34m\"딸기라떼\"\u001b[0m\u001b[0;34m]\u001b[0m\u001b[0;34m,\u001b[0m \u001b[0;34m[\u001b[0m\u001b[0;34m\"케냐원두\"\u001b[0m\u001b[0;34m,\u001b[0m \u001b[0;34m\"예가체프\"\u001b[0m\u001b[0;34m,\u001b[0m \u001b[0;34m\"에티오피아\"\u001b[0m\u001b[0;34m,\u001b[0m \u001b[0;34m\"온두라스\"\u001b[0m\u001b[0;34m]\u001b[0m\u001b[0;34m,\u001b[0m \u001b[0;34m\"아메리카노\"\u001b[0m\u001b[0;34m)\u001b[0m\u001b[0;34m\u001b[0m\u001b[0;34m\u001b[0m\u001b[0m\n\u001b[0m",
      "\u001b[0;31mNameError\u001b[0m: name 'Cafe' is not defined"
     ]
    }
   ],
   "source": [
    "starbucks = Cafe(30, [\"아메리카노\", \"돌체라떼\", \"자바칩프라프치노\", \"소이라떼\", \"딸기라떼\"], [\"케냐원두\", \"예가체프\", \"에티오피아\", \"온두라스\"], \"아메리카노\")"
   ]
  },
  {
   "cell_type": "code",
   "execution_count": null,
   "metadata": {},
   "outputs": [],
   "source": []
  }
 ],
 "metadata": {
  "kernelspec": {
   "display_name": "Python 3",
   "language": "python",
   "name": "python3"
  },
  "language_info": {
   "codemirror_mode": {
    "name": "ipython",
    "version": 3
   },
   "file_extension": ".py",
   "mimetype": "text/x-python",
   "name": "python",
   "nbconvert_exporter": "python",
   "pygments_lexer": "ipython3",
   "version": "3.7.6"
  }
 },
 "nbformat": 4,
 "nbformat_minor": 4
}
