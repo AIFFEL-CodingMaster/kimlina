{
 "cells": [
  {
   "cell_type": "markdown",
   "metadata": {},
   "source": [
    "## 변수"
   ]
  },
  {
   "cell_type": "code",
   "execution_count": 1,
   "metadata": {},
   "outputs": [],
   "source": [
    "name = \"김리나\""
   ]
  },
  {
   "cell_type": "code",
   "execution_count": 2,
   "metadata": {},
   "outputs": [],
   "source": [
    "eng_name = \"KimLina\""
   ]
  },
  {
   "cell_type": "code",
   "execution_count": 3,
   "metadata": {},
   "outputs": [],
   "source": [
    "phone_number = \"010-7138-2353\""
   ]
  },
  {
   "cell_type": "code",
   "execution_count": 4,
   "metadata": {},
   "outputs": [],
   "source": [
    "height = \"163cm\""
   ]
  },
  {
   "cell_type": "code",
   "execution_count": 7,
   "metadata": {},
   "outputs": [
    {
     "name": "stdout",
     "output_type": "stream",
     "text": [
      "김리나 \n",
      " KimLina \n",
      " 010-7138-2353 \n",
      " 163cm\n",
      "\n",
      "김리나 \t KimLina \t 010-7138-2353 \t 163cm\n"
     ]
    }
   ],
   "source": [
    "print(name, '\\n', eng_name, '\\n', phone_number, '\\n', height)\n",
    "print()\n",
    "print(name, '\\t', eng_name, '\\t', phone_number, '\\t', height)"
   ]
  },
  {
   "cell_type": "markdown",
   "metadata": {},
   "source": [
    "## 숫자"
   ]
  },
  {
   "cell_type": "code",
   "execution_count": 8,
   "metadata": {},
   "outputs": [],
   "source": [
    "number_1 = 1\n",
    "number_2 = 1.0"
   ]
  },
  {
   "cell_type": "code",
   "execution_count": null,
   "metadata": {},
   "outputs": [],
   "source": []
  },
  {
   "cell_type": "markdown",
   "metadata": {},
   "source": [
    "## 문자"
   ]
  },
  {
   "cell_type": "code",
   "execution_count": 9,
   "metadata": {},
   "outputs": [
    {
     "name": "stdout",
     "output_type": "stream",
     "text": [
      "1\n",
      "1\n"
     ]
    }
   ],
   "source": [
    "string_1 = \"가나다라마바사\"\n",
    "string_2 = 'abcdef'\n",
    "string_3 = \"가나ab다라cd\"\n",
    "string_4 = '#!##$#@#sjhhasj12143'\n",
    "print(1)\n",
    "print(\"1\")"
   ]
  },
  {
   "cell_type": "code",
   "execution_count": null,
   "metadata": {},
   "outputs": [],
   "source": [
    "print(\"string\")"
   ]
  },
  {
   "cell_type": "markdown",
   "metadata": {},
   "source": [
    "## 고오급 출력"
   ]
  },
  {
   "cell_type": "code",
   "execution_count": 10,
   "metadata": {},
   "outputs": [
    {
     "name": "stdout",
     "output_type": "stream",
     "text": [
      "abcdefgh\n",
      "abcd jkdjf\n"
     ]
    }
   ],
   "source": [
    "# 한 줄 출력\n",
    "print('abcd', end=\"\")\n",
    "print('efgh')\n",
    "# 한 칸 띄우고 출력\n",
    "print(\"abcd\", end=\" \")\n",
    "print(\"jkdjf\")"
   ]
  },
  {
   "cell_type": "code",
   "execution_count": 11,
   "metadata": {},
   "outputs": [
    {
     "name": "stdout",
     "output_type": "stream",
     "text": [
      "1.23\n",
      "3.42\n"
     ]
    }
   ],
   "source": [
    "# 2 자리 - 3 번째 자리에서 반올림\n",
    "print(\"%.2f\" % 1.234455566)\n",
    "# 변수명으로 넣기\n",
    "pi = 3.41592\n",
    "print(\"%.2f\" %pi)"
   ]
  },
  {
   "cell_type": "code",
   "execution_count": 12,
   "metadata": {},
   "outputs": [
    {
     "name": "stdout",
     "output_type": "stream",
     "text": [
      "나는 10시에 집에 간다\n",
      "나는 10시에 집에 간다\n",
      "나는 10시에 집에 간다\n"
     ]
    }
   ],
   "source": [
    "# 문자 고급 출력\n",
    "when = 10\n",
    "where = \"집\"\n",
    "print(\"나는 %d시에 %s에 간다\"%(when,where)) #d: digit %s: string\n",
    "print(\"나는 {}시에 {}에 간다\".format(when,where)) # {}안에 format(변수)를 출력\n",
    "print(f\"나는 {when}시에 {where}에 간다\") #{변수} 출력"
   ]
  },
  {
   "cell_type": "markdown",
   "metadata": {},
   "source": [
    "### 연습해보기"
   ]
  },
  {
   "cell_type": "code",
   "execution_count": 30,
   "metadata": {},
   "outputs": [
    {
     "name": "stdout",
     "output_type": "stream",
     "text": [
      "21.01.11에 집에 있었다. 코로나때문에..\n"
     ]
    }
   ],
   "source": [
    "when = \"21.01.11\"\n",
    "where = \"집\"\n",
    "why = \"코로나\"\n",
    "print(f\"{when}에 {where}에 있었다. {why}때문에..\")"
   ]
  },
  {
   "cell_type": "markdown",
   "metadata": {},
   "source": [
    "## 산술연산자"
   ]
  },
  {
   "cell_type": "code",
   "execution_count": 19,
   "metadata": {},
   "outputs": [],
   "source": [
    "a = 10\n",
    "b = 2"
   ]
  },
  {
   "cell_type": "code",
   "execution_count": 20,
   "metadata": {},
   "outputs": [
    {
     "name": "stdout",
     "output_type": "stream",
     "text": [
      "12\n"
     ]
    }
   ],
   "source": [
    "print(a+b)"
   ]
  },
  {
   "cell_type": "code",
   "execution_count": 21,
   "metadata": {},
   "outputs": [
    {
     "name": "stdout",
     "output_type": "stream",
     "text": [
      "8\n"
     ]
    }
   ],
   "source": [
    "print(a-b)"
   ]
  },
  {
   "cell_type": "code",
   "execution_count": 22,
   "metadata": {},
   "outputs": [
    {
     "name": "stdout",
     "output_type": "stream",
     "text": [
      "20\n"
     ]
    }
   ],
   "source": [
    "print(a*b)"
   ]
  },
  {
   "cell_type": "code",
   "execution_count": 24,
   "metadata": {},
   "outputs": [
    {
     "name": "stdout",
     "output_type": "stream",
     "text": [
      "5.0\n"
     ]
    },
    {
     "data": {
      "text/plain": [
       "float"
      ]
     },
     "execution_count": 24,
     "metadata": {},
     "output_type": "execute_result"
    }
   ],
   "source": [
    "print(a/b)\n",
    "type(a/b)"
   ]
  },
  {
   "cell_type": "markdown",
   "metadata": {},
   "source": [
    "### +@"
   ]
  },
  {
   "cell_type": "code",
   "execution_count": 25,
   "metadata": {},
   "outputs": [
    {
     "name": "stdout",
     "output_type": "stream",
     "text": [
      "0\n"
     ]
    }
   ],
   "source": [
    "print(a%b)\n",
    "#if a % 2 == 0: #짝수\n",
    "#if a % 2 != 0: #홀수"
   ]
  },
  {
   "cell_type": "code",
   "execution_count": 26,
   "metadata": {},
   "outputs": [
    {
     "name": "stdout",
     "output_type": "stream",
     "text": [
      "5\n",
      "5\n"
     ]
    }
   ],
   "source": [
    "print(a//b)\n",
    "\n",
    "a = 11\n",
    "print(a//b) #몫을 나타내기 때문에 값이 같다"
   ]
  },
  {
   "cell_type": "code",
   "execution_count": 27,
   "metadata": {},
   "outputs": [
    {
     "name": "stdout",
     "output_type": "stream",
     "text": [
      "1\n"
     ]
    }
   ],
   "source": [
    "print(a % b)"
   ]
  },
  {
   "cell_type": "markdown",
   "metadata": {},
   "source": [
    "## 변수와 산술연산자로 만드는 구구단"
   ]
  },
  {
   "cell_type": "code",
   "execution_count": 28,
   "metadata": {},
   "outputs": [
    {
     "name": "stdout",
     "output_type": "stream",
     "text": [
      "숫자를 입력해주세요6\n",
      "6단\n",
      "6 x 1 = 6\n",
      "6 x 2 = 12\n",
      "6 x 3 = 18\n",
      "6 x 4 = 24\n",
      "6 x 5 = 30\n",
      "6 x 6 = 36\n",
      "6 x 7 = 42\n",
      "6 x 8 = 48\n",
      "6 x 9 = 54\n"
     ]
    }
   ],
   "source": [
    "num = int(input(\"숫자를 입력해주세요\"))\n",
    "# input은 사용자에게 변수를 입력 받는 것\n",
    "print(f\"{num}단\")\n",
    "print(f'{num} x 1 = {num*1}')\n",
    "print(f'{num} x 2 = {num*2}')\n",
    "print(f'{num} x 3 = {num*3}')\n",
    "print(f'{num} x 4 = {num*4}')\n",
    "print(f'{num} x 5 = {num*5}')\n",
    "print(f'{num} x 6 = {num*6}')\n",
    "print(f'{num} x 7 = {num*7}')\n",
    "print(f'{num} x 8 = {num*8}')\n",
    "print(f'{num} x 9 = {num*9}')"
   ]
  },
  {
   "cell_type": "markdown",
   "metadata": {},
   "source": [
    "## 자료형"
   ]
  },
  {
   "cell_type": "code",
   "execution_count": 31,
   "metadata": {},
   "outputs": [],
   "source": [
    "list_a = [1, '이', 3]\n",
    "def temp():\n",
    "    print(\"나는 함수\")\n",
    "class Temp:\n",
    "    pass\n",
    "\n",
    "llist_b = [1, '이', temp]"
   ]
  },
  {
   "cell_type": "code",
   "execution_count": 32,
   "metadata": {},
   "outputs": [
    {
     "name": "stdout",
     "output_type": "stream",
     "text": [
      "[1, '이', 3, <function temp at 0x7f31343eaef0>, <class '__main__.Temp'>]\n"
     ]
    }
   ],
   "source": [
    "list_a.append(temp)\n",
    "list_a = list_a + [Temp]\n",
    "print(list_a)"
   ]
  },
  {
   "cell_type": "code",
   "execution_count": 33,
   "metadata": {},
   "outputs": [
    {
     "name": "stdout",
     "output_type": "stream",
     "text": [
      "{1, 2, 3}\n"
     ]
    }
   ],
   "source": [
    "set_a = {1,1,2,2,3,3}\n",
    "print(set_a)"
   ]
  },
  {
   "cell_type": "code",
   "execution_count": 34,
   "metadata": {},
   "outputs": [
    {
     "name": "stdout",
     "output_type": "stream",
     "text": [
      "{1, 4}\n"
     ]
    }
   ],
   "source": [
    "set_a.add(4)\n",
    "set_a = set_a - {2,3}\n",
    "print(set_a)"
   ]
  },
  {
   "cell_type": "code",
   "execution_count": null,
   "metadata": {},
   "outputs": [],
   "source": [
    "tuple_a = (1, '이', 3)\n",
    "tuple_a = tuple_a"
   ]
  },
  {
   "cell_type": "code",
   "execution_count": null,
   "metadata": {},
   "outputs": [],
   "source": [
    "bool"
   ]
  },
  {
   "cell_type": "markdown",
   "metadata": {},
   "source": [
    "## 비교연산자"
   ]
  },
  {
   "cell_type": "code",
   "execution_count": 35,
   "metadata": {},
   "outputs": [
    {
     "name": "stdout",
     "output_type": "stream",
     "text": [
      "True\n"
     ]
    }
   ],
   "source": [
    "number_1 = 10\n",
    "number_2 = 10\n",
    "print(number_1 == number_2)"
   ]
  },
  {
   "cell_type": "code",
   "execution_count": 36,
   "metadata": {},
   "outputs": [
    {
     "name": "stdout",
     "output_type": "stream",
     "text": [
      "False\n"
     ]
    }
   ],
   "source": [
    "number_3 = 100\n",
    "number_4 = 100\n",
    "print(number_3 != number_4)"
   ]
  },
  {
   "cell_type": "code",
   "execution_count": 38,
   "metadata": {},
   "outputs": [
    {
     "name": "stdout",
     "output_type": "stream",
     "text": [
      "False\n"
     ]
    }
   ],
   "source": [
    "number_5 = 1000\n",
    "number_6 = 2000\n",
    "print(number_5 >= number_6)"
   ]
  },
  {
   "cell_type": "markdown",
   "metadata": {},
   "source": [
    "### 문자도 비교 가능하다"
   ]
  },
  {
   "cell_type": "code",
   "execution_count": 41,
   "metadata": {},
   "outputs": [
    {
     "name": "stdout",
     "output_type": "stream",
     "text": [
      "True\n",
      "True\n"
     ]
    }
   ],
   "source": [
    "print('ㅁ' == 'ㅁ')\n",
    "print(['하하'] != \"이것은 문자열\")"
   ]
  },
  {
   "cell_type": "code",
   "execution_count": 40,
   "metadata": {},
   "outputs": [
    {
     "name": "stdout",
     "output_type": "stream",
     "text": [
      "True\n"
     ]
    }
   ],
   "source": [
    "print(\"a\" > \"A\")"
   ]
  },
  {
   "cell_type": "markdown",
   "metadata": {},
   "source": [
    "## is 비교"
   ]
  },
  {
   "cell_type": "code",
   "execution_count": 42,
   "metadata": {},
   "outputs": [],
   "source": [
    "a = [1,2,3]\n",
    "b = 100\n",
    "c = 100.0"
   ]
  },
  {
   "cell_type": "code",
   "execution_count": 43,
   "metadata": {},
   "outputs": [
    {
     "name": "stdout",
     "output_type": "stream",
     "text": [
      "139849306654032\n",
      "94682216157024\n",
      "139849307044848\n"
     ]
    }
   ],
   "source": [
    "print(id(a))\n",
    "print(id(b))\n",
    "print(id(c))#각각의 주소값이 다 다르다"
   ]
  },
  {
   "cell_type": "code",
   "execution_count": 44,
   "metadata": {},
   "outputs": [
    {
     "name": "stdout",
     "output_type": "stream",
     "text": [
      "False\n",
      "False\n",
      "False\n"
     ]
    }
   ],
   "source": [
    "print(a is b)\n",
    "print(b is c)\n",
    "print(a is c)#주소값이 달라서 False"
   ]
  },
  {
   "cell_type": "code",
   "execution_count": 45,
   "metadata": {},
   "outputs": [
    {
     "name": "stdout",
     "output_type": "stream",
     "text": [
      "True\n"
     ]
    }
   ],
   "source": [
    "print(b == c)"
   ]
  },
  {
   "cell_type": "code",
   "execution_count": 46,
   "metadata": {},
   "outputs": [
    {
     "name": "stdout",
     "output_type": "stream",
     "text": [
      "False\n"
     ]
    }
   ],
   "source": [
    "c = 257\n",
    "e = 257\n",
    "print(c is e) #정수일 경우 0~256까지 주소가 정해져 있다."
   ]
  },
  {
   "cell_type": "markdown",
   "metadata": {},
   "source": [
    "## 논리연산자"
   ]
  },
  {
   "cell_type": "code",
   "execution_count": 47,
   "metadata": {},
   "outputs": [],
   "source": [
    "a = 10\n",
    "b = 10"
   ]
  },
  {
   "cell_type": "code",
   "execution_count": 48,
   "metadata": {},
   "outputs": [
    {
     "data": {
      "text/plain": [
       "True"
      ]
     },
     "execution_count": 48,
     "metadata": {},
     "output_type": "execute_result"
    }
   ],
   "source": [
    "(a and b) == 10"
   ]
  },
  {
   "cell_type": "code",
   "execution_count": 49,
   "metadata": {},
   "outputs": [
    {
     "data": {
      "text/plain": [
       "False"
      ]
     },
     "execution_count": 49,
     "metadata": {},
     "output_type": "execute_result"
    }
   ],
   "source": [
    "(a and b) == 11"
   ]
  },
  {
   "cell_type": "code",
   "execution_count": 50,
   "metadata": {},
   "outputs": [],
   "source": [
    "c = 100\n",
    "d = 1000"
   ]
  },
  {
   "cell_type": "code",
   "execution_count": 51,
   "metadata": {},
   "outputs": [
    {
     "data": {
      "text/plain": [
       "True"
      ]
     },
     "execution_count": 51,
     "metadata": {},
     "output_type": "execute_result"
    }
   ],
   "source": [
    "(c or d) == 100"
   ]
  },
  {
   "cell_type": "code",
   "execution_count": 52,
   "metadata": {},
   "outputs": [
    {
     "data": {
      "text/plain": [
       "False"
      ]
     },
     "execution_count": 52,
     "metadata": {},
     "output_type": "execute_result"
    }
   ],
   "source": [
    "(c or not d) == 10"
   ]
  },
  {
   "cell_type": "code",
   "execution_count": 53,
   "metadata": {},
   "outputs": [
    {
     "data": {
      "text/plain": [
       "True"
      ]
     },
     "execution_count": 53,
     "metadata": {},
     "output_type": "execute_result"
    }
   ],
   "source": [
    "not not d #논리연산자는 영어 뜻 그래도 이해하면 쉽다."
   ]
  },
  {
   "cell_type": "markdown",
   "metadata": {},
   "source": [
    "## 조건문"
   ]
  },
  {
   "cell_type": "code",
   "execution_count": 54,
   "metadata": {},
   "outputs": [],
   "source": [
    "if a == True:\n",
    "    a = a + 1"
   ]
  },
  {
   "cell_type": "code",
   "execution_count": 55,
   "metadata": {},
   "outputs": [
    {
     "name": "stdout",
     "output_type": "stream",
     "text": [
      "55\n",
      "100보다 작음\n"
     ]
    }
   ],
   "source": [
    "list_1 = [1,2,3,4,5,6,7,8,9,10]\n",
    "\n",
    "if sum(list_1) < 100:\n",
    "    print(sum(list_1))\n",
    "    print(\"100보다 작음\")"
   ]
  },
  {
   "cell_type": "code",
   "execution_count": 56,
   "metadata": {},
   "outputs": [],
   "source": [
    "if sum(list_1) > 100:\n",
    "    print(\"list_1의 합은 55인데 100보다 크다라는 조건이 틀려서 어차피 이 print는 실행 안됨\")"
   ]
  },
  {
   "cell_type": "code",
   "execution_count": 57,
   "metadata": {},
   "outputs": [
    {
     "name": "stdout",
     "output_type": "stream",
     "text": [
      "위에 두 조건이 다 틀려서 실행됨\n"
     ]
    }
   ],
   "source": [
    "if sum(list_1) > 100:\n",
    "    print(\"list_1의 합은 55인데 100보다 크다라는 조건이 틀려서 어차피 이 print는 실행 안됨\")\n",
    "elif sum(list_1) > 70:\n",
    "    print(\"이것도 안됨. 위와 동일한 이유로\")\n",
    "else:\n",
    "    print(\"위에 두 조건이 다 틀려서 실행됨\")"
   ]
  },
  {
   "cell_type": "code",
   "execution_count": 58,
   "metadata": {},
   "outputs": [
    {
     "name": "stdout",
     "output_type": "stream",
     "text": [
      "[1, 2, 3, 4, 5, 6, 7, 8, 9, 10, 11]\n"
     ]
    }
   ],
   "source": [
    "if list_1[0] == 1:\n",
    "    list_1.append(11)\n",
    "    print(list_1)\n",
    "elif list_1[1] > 0:\n",
    "    print(\"이건 실행이 될까요?\")"
   ]
  },
  {
   "cell_type": "code",
   "execution_count": 59,
   "metadata": {},
   "outputs": [
    {
     "name": "stdout",
     "output_type": "stream",
     "text": [
      "list_2는 존재하니까 실행\n"
     ]
    }
   ],
   "source": [
    "list_2 = [\"A\", \"B\", \"C\"]\n",
    "if list_2:\n",
    "    print(\"list_2는 존재하니까 실행\")"
   ]
  },
  {
   "cell_type": "code",
   "execution_count": 61,
   "metadata": {},
   "outputs": [
    {
     "name": "stdout",
     "output_type": "stream",
     "text": [
      "list_2는 None이 아니니까 실행\n"
     ]
    }
   ],
   "source": [
    "if list_2 is not None:\n",
    "    print(\"list_2는 None이 아니니까 실행\")"
   ]
  },
  {
   "cell_type": "code",
   "execution_count": 63,
   "metadata": {},
   "outputs": [
    {
     "name": "stdout",
     "output_type": "stream",
     "text": [
      "list_2 안에 A가 있으니까 실행\n",
      "list_2는 A B C뿐\n"
     ]
    }
   ],
   "source": [
    "if \"A\" in list_2:\n",
    "    print(\"list_2 안에 A가 있으니까 실행\")\n",
    "if \"D\" not in list_2:\n",
    "    print(\"list_2는 A B C뿐\")"
   ]
  },
  {
   "cell_type": "markdown",
   "metadata": {},
   "source": [
    "### 조건문이 실행되게 만들어보기"
   ]
  },
  {
   "cell_type": "code",
   "execution_count": 64,
   "metadata": {},
   "outputs": [
    {
     "name": "stdout",
     "output_type": "stream",
     "text": [
      "list_3 :  [1, 4, 6, 7, 8]\n"
     ]
    }
   ],
   "source": [
    "list_3 = [1,4,6,7,8]\n",
    "if len(list_3) < 10:\n",
    "    print(\"list_3 : \", list_3)"
   ]
  },
  {
   "cell_type": "code",
   "execution_count": 65,
   "metadata": {},
   "outputs": [
    {
     "name": "stdout",
     "output_type": "stream",
     "text": [
      "type of a : set\n"
     ]
    }
   ],
   "source": [
    "a = {1,2,3}\n",
    "if type(a) == set :\n",
    "    print('type of a : set')"
   ]
  },
  {
   "cell_type": "markdown",
   "metadata": {},
   "source": [
    "## 반복문"
   ]
  },
  {
   "cell_type": "code",
   "execution_count": 67,
   "metadata": {},
   "outputs": [],
   "source": [
    "#while A == 0:\n",
    "#   print(123)"
   ]
  },
  {
   "cell_type": "code",
   "execution_count": 68,
   "metadata": {
    "scrolled": true
   },
   "outputs": [
    {
     "name": "stdout",
     "output_type": "stream",
     "text": [
      "9\n",
      "8\n",
      "7\n",
      "6\n",
      "5\n",
      "4\n",
      "3\n",
      "2\n",
      "[1]\n"
     ]
    }
   ],
   "source": [
    "list_1 = [1,2,3,4,5,6,7,8,9]\n",
    "while len(list_1) > 1:\n",
    "    print(list_1.pop())\n",
    "\n",
    "print(list_1)"
   ]
  },
  {
   "cell_type": "markdown",
   "metadata": {},
   "source": [
    "### 주의할 점 : 언젠가는 조건을 만족해야 한다"
   ]
  },
  {
   "cell_type": "code",
   "execution_count": null,
   "metadata": {},
   "outputs": [],
   "source": [
    "n = 10\n",
    "while n > 0:\n",
    "    print(\"끝나지 않는 무한루프\") # 실행 주의"
   ]
  },
  {
   "cell_type": "code",
   "execution_count": 69,
   "metadata": {},
   "outputs": [
    {
     "name": "stdout",
     "output_type": "stream",
     "text": [
      "곧 끝나는 루프\n",
      "곧 끝나는 루프\n",
      "곧 끝나는 루프\n",
      "곧 끝나는 루프\n",
      "곧 끝나는 루프\n",
      "곧 끝나는 루프\n",
      "곧 끝나는 루프\n",
      "곧 끝나는 루프\n",
      "곧 끝나는 루프\n",
      "곧 끝나는 루프\n"
     ]
    }
   ],
   "source": [
    "n = 10\n",
    "while n > 0:\n",
    "    print(\"곧 끝나는 루프\")\n",
    "    n = n - 1"
   ]
  },
  {
   "cell_type": "code",
   "execution_count": 70,
   "metadata": {},
   "outputs": [
    {
     "name": "stdout",
     "output_type": "stream",
     "text": [
      "강제로 끝내는 방법 바로 'break'\n"
     ]
    }
   ],
   "source": [
    "n = 10\n",
    "while n > 0:\n",
    "    print(\"강제로 끝내는 방법 바로 'break'\")\n",
    "    break"
   ]
  },
  {
   "cell_type": "code",
   "execution_count": 71,
   "metadata": {},
   "outputs": [
    {
     "name": "stdout",
     "output_type": "stream",
     "text": [
      "n :  10\n",
      "n :  9\n",
      "n :  8\n",
      "n :  7\n",
      "n :  6\n"
     ]
    }
   ],
   "source": [
    "n = 10\n",
    "while n > 0:\n",
    "    print(\"n : \", n)\n",
    "    n = n - 1\n",
    "    if n == 5:\n",
    "        break"
   ]
  },
  {
   "cell_type": "code",
   "execution_count": null,
   "metadata": {},
   "outputs": [],
   "source": []
  }
 ],
 "metadata": {
  "kernelspec": {
   "display_name": "Python 3",
   "language": "python",
   "name": "python3"
  },
  "language_info": {
   "codemirror_mode": {
    "name": "ipython",
    "version": 3
   },
   "file_extension": ".py",
   "mimetype": "text/x-python",
   "name": "python",
   "nbconvert_exporter": "python",
   "pygments_lexer": "ipython3",
   "version": "3.7.6"
  }
 },
 "nbformat": 4,
 "nbformat_minor": 4
}
