{
 "cells": [
  {
   "cell_type": "markdown",
   "metadata": {},
   "source": [
    "# Dictionary"
   ]
  },
  {
   "cell_type": "markdown",
   "metadata": {},
   "source": [
    "hash-table 구조   \n",
    "key로 자물쇠를 열러서 value를 꺼낸다고 생각"
   ]
  },
  {
   "cell_type": "code",
   "execution_count": 4,
   "metadata": {},
   "outputs": [],
   "source": [
    "dict_1 = {\"key\" : \"abc\"}\n",
    "dict_2 = {\"key\" : [\"a\", \"b\", \"c\"]} \n",
    "dict_5 = {\"key\" : {\"key\" : \"abc\"}}"
   ]
  },
  {
   "cell_type": "code",
   "execution_count": 2,
   "metadata": {},
   "outputs": [
    {
     "name": "stdout",
     "output_type": "stream",
     "text": [
      "abc\n",
      "['a', 'b', 'c']\n"
     ]
    }
   ],
   "source": [
    "print(dict_1[\"key\"])\n",
    "print(dict_2[\"key\"])"
   ]
  },
  {
   "cell_type": "code",
   "execution_count": 3,
   "metadata": {},
   "outputs": [
    {
     "name": "stdout",
     "output_type": "stream",
     "text": [
      "a\n",
      "a\n"
     ]
    }
   ],
   "source": [
    "print(dict_1[\"key\"][0])\n",
    "print(dict_2[\"key\"][0]) # {}쓰는 애들은 인덱싱 불가"
   ]
  },
  {
   "cell_type": "code",
   "execution_count": 5,
   "metadata": {},
   "outputs": [
    {
     "name": "stdout",
     "output_type": "stream",
     "text": [
      "abc\n"
     ]
    }
   ],
   "source": [
    "print(dict_5[\"key\"][\"key\"])"
   ]
  },
  {
   "cell_type": "code",
   "execution_count": 6,
   "metadata": {},
   "outputs": [],
   "source": [
    "dict_6 = {\"key_1\":\"value_1\", \"key_2\":\"value_2\"}"
   ]
  },
  {
   "cell_type": "code",
   "execution_count": 7,
   "metadata": {},
   "outputs": [
    {
     "data": {
      "text/plain": [
       "dict_keys(['key_1', 'key_2'])"
      ]
     },
     "execution_count": 7,
     "metadata": {},
     "output_type": "execute_result"
    }
   ],
   "source": [
    "dict_6.keys()"
   ]
  },
  {
   "cell_type": "code",
   "execution_count": 8,
   "metadata": {},
   "outputs": [
    {
     "data": {
      "text/plain": [
       "dict_values(['value_1', 'value_2'])"
      ]
     },
     "execution_count": 8,
     "metadata": {},
     "output_type": "execute_result"
    }
   ],
   "source": [
    "dict_6.values()"
   ]
  },
  {
   "cell_type": "code",
   "execution_count": 9,
   "metadata": {},
   "outputs": [
    {
     "data": {
      "text/plain": [
       "dict_items([('key_1', 'value_1'), ('key_2', 'value_2')])"
      ]
     },
     "execution_count": 9,
     "metadata": {},
     "output_type": "execute_result"
    }
   ],
   "source": [
    "dict_6.items()"
   ]
  },
  {
   "cell_type": "markdown",
   "metadata": {},
   "source": [
    "# Module"
   ]
  },
  {
   "cell_type": "markdown",
   "metadata": {},
   "source": [
    "* .py로 끝나는 하나의 파이썬 코드 파일"
   ]
  },
  {
   "cell_type": "markdown",
   "metadata": {},
   "source": [
    "# Package\n",
    "* 모듈이 모이면 패키지라고 함."
   ]
  },
  {
   "cell_type": "markdown",
   "metadata": {},
   "source": [
    "# Library\n",
    "* 패키지가 모이면 라이브러리가 됨"
   ]
  },
  {
   "cell_type": "markdown",
   "metadata": {},
   "source": [
    "### Impot 는 불러오기다"
   ]
  },
  {
   "cell_type": "code",
   "execution_count": 10,
   "metadata": {},
   "outputs": [],
   "source": [
    "import pandas"
   ]
  },
  {
   "cell_type": "code",
   "execution_count": 11,
   "metadata": {},
   "outputs": [
    {
     "data": {
      "text/plain": [
       "'1.0.1'"
      ]
     },
     "execution_count": 11,
     "metadata": {},
     "output_type": "execute_result"
    }
   ],
   "source": [
    "pandas.__version__"
   ]
  },
  {
   "cell_type": "code",
   "execution_count": 12,
   "metadata": {},
   "outputs": [],
   "source": [
    "import pandas as pd"
   ]
  },
  {
   "cell_type": "code",
   "execution_count": 14,
   "metadata": {},
   "outputs": [],
   "source": [
    "import os, sys # 가능하지만 권장은 한줄씩 하는 것"
   ]
  },
  {
   "cell_type": "code",
   "execution_count": 15,
   "metadata": {},
   "outputs": [],
   "source": [
    "from os import getcwd # from은 특정한 무언가를 뽑아올 때 사용"
   ]
  },
  {
   "cell_type": "code",
   "execution_count": 16,
   "metadata": {},
   "outputs": [
    {
     "data": {
      "text/plain": [
       "'/home/aiffel/coding_master/python_basic'"
      ]
     },
     "execution_count": 16,
     "metadata": {},
     "output_type": "execute_result"
    }
   ],
   "source": [
    "getcwd()"
   ]
  },
  {
   "cell_type": "code",
   "execution_count": 17,
   "metadata": {},
   "outputs": [],
   "source": [
    "from os import * # *은 모든것을 의미"
   ]
  },
  {
   "cell_type": "code",
   "execution_count": 18,
   "metadata": {},
   "outputs": [],
   "source": [
    "chdir(\"../../..\")"
   ]
  },
  {
   "cell_type": "code",
   "execution_count": 19,
   "metadata": {},
   "outputs": [
    {
     "data": {
      "text/plain": [
       "['aiffel']"
      ]
     },
     "execution_count": 19,
     "metadata": {},
     "output_type": "execute_result"
    }
   ],
   "source": [
    "listdir()"
   ]
  },
  {
   "cell_type": "markdown",
   "metadata": {},
   "source": [
    "# 반복문(for 문)"
   ]
  },
  {
   "cell_type": "markdown",
   "metadata": {},
   "source": [
    "반복 가능한 만큼 반복한다 = \"iterable\""
   ]
  },
  {
   "cell_type": "code",
   "execution_count": 20,
   "metadata": {},
   "outputs": [],
   "source": [
    "list_1 = [1,2,3,4,5]\n",
    "tuple_2 = (1,2,3,4,5)\n",
    "set_1 = {1,2,3,4,5}\n",
    "dict_1 = {'1' : 1, '2' : 2, '3' : 3}\n",
    "string = \"abcd\"\n",
    "range_ = range(10)"
   ]
  },
  {
   "cell_type": "code",
   "execution_count": 21,
   "metadata": {},
   "outputs": [
    {
     "name": "stdout",
     "output_type": "stream",
     "text": [
      "1\n",
      "2\n",
      "3\n",
      "4\n",
      "5\n"
     ]
    }
   ],
   "source": [
    "for i in list_1:\n",
    "    print(i)"
   ]
  },
  {
   "cell_type": "code",
   "execution_count": 22,
   "metadata": {},
   "outputs": [],
   "source": [
    "i = list_1[0]"
   ]
  },
  {
   "cell_type": "code",
   "execution_count": 23,
   "metadata": {},
   "outputs": [
    {
     "name": "stdout",
     "output_type": "stream",
     "text": [
      "1\n",
      "2\n",
      "3\n",
      "4\n",
      "5\n"
     ]
    }
   ],
   "source": [
    "for i in tuple_2:\n",
    "    print(i)"
   ]
  },
  {
   "cell_type": "code",
   "execution_count": 24,
   "metadata": {},
   "outputs": [
    {
     "name": "stdout",
     "output_type": "stream",
     "text": [
      "1\n",
      "2\n",
      "3\n"
     ]
    }
   ],
   "source": [
    "for i in dict_1:\n",
    "    print(i)"
   ]
  },
  {
   "cell_type": "code",
   "execution_count": 25,
   "metadata": {
    "scrolled": true
   },
   "outputs": [
    {
     "name": "stdout",
     "output_type": "stream",
     "text": [
      "0\n",
      "1\n",
      "2\n",
      "3\n",
      "4\n",
      "5\n",
      "6\n",
      "7\n",
      "8\n",
      "9\n"
     ]
    }
   ],
   "source": [
    "for i in range_:\n",
    "    print(i)"
   ]
  },
  {
   "cell_type": "code",
   "execution_count": 29,
   "metadata": {},
   "outputs": [
    {
     "name": "stdout",
     "output_type": "stream",
     "text": [
      "Requirement already satisfied: tqdm in ./aiffel/anaconda3/lib/python3.7/site-packages (4.42.1)\n",
      "Note: you may need to restart the kernel to use updated packages.\n"
     ]
    }
   ],
   "source": [
    "pip install tqdm"
   ]
  },
  {
   "cell_type": "code",
   "execution_count": 40,
   "metadata": {},
   "outputs": [
    {
     "name": "stderr",
     "output_type": "stream",
     "text": [
      "5it [00:00, 10911.30it/s]"
     ]
    },
    {
     "name": "stdout",
     "output_type": "stream",
     "text": [
      "i 는 순서 0\n",
      "j 는 데이터 1\n",
      "i 는 순서 1\n",
      "j 는 데이터 2\n",
      "i 는 순서 2\n",
      "j 는 데이터 3\n",
      "i 는 순서 3\n",
      "j 는 데이터 4\n",
      "i 는 순서 4\n",
      "j 는 데이터 5\n"
     ]
    },
    {
     "name": "stderr",
     "output_type": "stream",
     "text": [
      "\n"
     ]
    }
   ],
   "source": [
    "from tqdm import tqdm\n",
    "for i, j in tqdm(enumerate(list_1)): # tqdm은 진행상황 확인\n",
    "    print(f\"i 는 순서 {i}\")\n",
    "    print(f\"j 는 데이터 {j}\")"
   ]
  },
  {
   "cell_type": "code",
   "execution_count": 28,
   "metadata": {},
   "outputs": [
    {
     "name": "stdout",
     "output_type": "stream",
     "text": [
      "i : 0\n",
      "j : 0\n",
      "j : 1\n",
      "j : 2\n",
      "j : 3\n",
      "j : 4\n",
      "j : 5\n",
      "j : 6\n",
      "j : 7\n",
      "j : 8\n",
      "j : 9\n",
      "i : 1\n",
      "j : 0\n",
      "j : 1\n",
      "j : 2\n",
      "j : 3\n",
      "j : 4\n",
      "j : 5\n",
      "j : 6\n",
      "j : 7\n",
      "j : 8\n",
      "j : 9\n",
      "i : 2\n",
      "j : 0\n",
      "j : 1\n",
      "j : 2\n",
      "j : 3\n",
      "j : 4\n",
      "j : 5\n",
      "j : 6\n",
      "j : 7\n",
      "j : 8\n",
      "j : 9\n",
      "i : 3\n",
      "j : 0\n",
      "j : 1\n",
      "j : 2\n",
      "j : 3\n",
      "j : 4\n",
      "j : 5\n",
      "j : 6\n",
      "j : 7\n",
      "j : 8\n",
      "j : 9\n",
      "i : 4\n",
      "j : 0\n",
      "j : 1\n",
      "j : 2\n",
      "j : 3\n",
      "j : 4\n",
      "j : 5\n",
      "j : 6\n",
      "j : 7\n",
      "j : 8\n",
      "j : 9\n",
      "i : 5\n",
      "j : 0\n",
      "j : 1\n",
      "j : 2\n",
      "j : 3\n",
      "j : 4\n",
      "j : 5\n",
      "j : 6\n",
      "j : 7\n",
      "j : 8\n",
      "j : 9\n",
      "i : 6\n",
      "j : 0\n",
      "j : 1\n",
      "j : 2\n",
      "j : 3\n",
      "j : 4\n",
      "j : 5\n",
      "j : 6\n",
      "j : 7\n",
      "j : 8\n",
      "j : 9\n",
      "i : 7\n",
      "j : 0\n",
      "j : 1\n",
      "j : 2\n",
      "j : 3\n",
      "j : 4\n",
      "j : 5\n",
      "j : 6\n",
      "j : 7\n",
      "j : 8\n",
      "j : 9\n",
      "i : 8\n",
      "j : 0\n",
      "j : 1\n",
      "j : 2\n",
      "j : 3\n",
      "j : 4\n",
      "j : 5\n",
      "j : 6\n",
      "j : 7\n",
      "j : 8\n",
      "j : 9\n",
      "i : 9\n",
      "j : 0\n",
      "j : 1\n",
      "j : 2\n",
      "j : 3\n",
      "j : 4\n",
      "j : 5\n",
      "j : 6\n",
      "j : 7\n",
      "j : 8\n",
      "j : 9\n"
     ]
    }
   ],
   "source": [
    "for i in range(10):\n",
    "    print(f\"i : {i}\")\n",
    "    for j in range(10):\n",
    "        print(f\"j : {j}\")"
   ]
  },
  {
   "cell_type": "markdown",
   "metadata": {},
   "source": [
    "# list comprehension\n",
    "* list 안에 for문 "
   ]
  },
  {
   "cell_type": "code",
   "execution_count": 32,
   "metadata": {},
   "outputs": [
    {
     "name": "stdout",
     "output_type": "stream",
     "text": [
      "[1, 2, 3, 4, 5, 6, 7, 8, 9, 10, 11, 12, 13, 14, 15, 16, 17, 18, 19, 20, 21, 22, 23, 24, 25, 26, 27, 28, 29, 30, 31, 32, 33, 34, 35, 36, 37, 38, 39, 40, 41, 42, 43, 44, 45, 46, 47, 48, 49, 50, 51, 52, 53, 54, 55, 56, 57, 58, 59, 60, 61, 62, 63, 64, 65, 66, 67, 68, 69, 70, 71, 72, 73, 74, 75, 76, 77, 78, 79, 80, 81, 82, 83, 84, 85, 86, 87, 88, 89, 90, 91, 92, 93, 94, 95, 96, 97, 98, 99, 100]\n"
     ]
    }
   ],
   "source": [
    "one_to_hundred = [ i for i in range(1,101)]\n",
    "print(one_to_hundred)"
   ]
  },
  {
   "cell_type": "code",
   "execution_count": 33,
   "metadata": {},
   "outputs": [
    {
     "name": "stdout",
     "output_type": "stream",
     "text": [
      "[100, 99, 98, 97, 96, 95, 94, 93, 92, 91, 90, 89, 88, 87, 86, 85, 84, 83, 82, 81, 80, 79, 78, 77, 76, 75, 74, 73, 72, 71, 70, 69, 68, 67, 66, 65, 64, 63, 62, 61, 60, 59, 58, 57, 56, 55, 54, 53, 52, 51, 50, 49, 48, 47, 46, 45, 44, 43, 42, 41, 40, 39, 38, 37, 36, 35, 34, 33, 32, 31, 30, 29, 28, 27, 26, 25, 24, 23, 22, 21, 20, 19, 18, 17, 16, 15, 14, 13, 12, 11, 10, 9, 8, 7, 6, 5, 4, 3, 2, 1]\n"
     ]
    }
   ],
   "source": [
    "# 거꾸로 100 부터 1까지\n",
    "hundred_to_one = [ i for i in range(100,0,-1)]\n",
    "print(hundred_to_one)"
   ]
  },
  {
   "cell_type": "code",
   "execution_count": 34,
   "metadata": {},
   "outputs": [
    {
     "name": "stdout",
     "output_type": "stream",
     "text": [
      "[2, 4, 6, 8, 10, 12, 14, 16, 18, 20, 22, 24, 26, 28, 30, 32, 34, 36, 38, 40, 42, 44, 46, 48, 50, 52, 54, 56, 58, 60, 62, 64, 66, 68, 70, 72, 74, 76, 78, 80, 82, 84, 86, 88, 90, 92, 94, 96, 98, 100]\n"
     ]
    }
   ],
   "source": [
    "짝수만 = [ i for i in one_to_hundred if i % 2 == 0]\n",
    "print(짝수만)"
   ]
  },
  {
   "cell_type": "code",
   "execution_count": 35,
   "metadata": {},
   "outputs": [
    {
     "name": "stdout",
     "output_type": "stream",
     "text": [
      "['x', 2, 'x', 4, 'x', 6, 'x', 8, 'x', 10, 'x', 12, 'x', 14, 'x', 16, 'x', 18, 'x', 20, 'x', 22, 'x', 24, 'x', 26, 'x', 28, 'x', 30, 'x', 32, 'x', 34, 'x', 36, 'x', 38, 'x', 40, 'x', 42, 'x', 44, 'x', 46, 'x', 48, 'x', 50, 'x', 52, 'x', 54, 'x', 56, 'x', 58, 'x', 60, 'x', 62, 'x', 64, 'x', 66, 'x', 68, 'x', 70, 'x', 72, 'x', 74, 'x', 76, 'x', 78, 'x', 80, 'x', 82, 'x', 84, 'x', 86, 'x', 88, 'x', 90, 'x', 92, 'x', 94, 'x', 96, 'x', 98, 'x', 100]\n"
     ]
    }
   ],
   "source": [
    "짝수가아니면_x= [ i if i % 2 ==0 else \"x\" for i in one_to_hundred ] # if를 두개이상 쓸 수 있는지는 공부해봐야\n",
    "print(짝수가아니면_x)"
   ]
  },
  {
   "cell_type": "code",
   "execution_count": 36,
   "metadata": {},
   "outputs": [
    {
     "name": "stdout",
     "output_type": "stream",
     "text": [
      "[(0, 0), (0, 1), (0, 2), (0, 3), (0, 4), (1, 0), (1, 1), (1, 2), (1, 3), (1, 4), (2, 0), (2, 1), (2, 2), (2, 3), (2, 4), (3, 0), (3, 1), (3, 2), (3, 3), (3, 4), (4, 0), (4, 1), (4, 2), (4, 3), (4, 4)]\n"
     ]
    }
   ],
   "source": [
    "for_and_for = [ (i,j) for i in range(5) for j in range(5) ]\n",
    "print(for_and_for)"
   ]
  },
  {
   "cell_type": "code",
   "execution_count": 47,
   "metadata": {},
   "outputs": [
    {
     "data": {
      "text/plain": [
       "[0, 1, 2, 3, 4, 'x', '^^', '^^', '^^', '^^']"
      ]
     },
     "execution_count": 47,
     "metadata": {},
     "output_type": "execute_result"
    }
   ],
   "source": [
    "[ x if x < 5 else \"^^\" if x >= 6 else \"x\" for x in range(10)]"
   ]
  },
  {
   "cell_type": "code",
   "execution_count": 46,
   "metadata": {},
   "outputs": [
    {
     "data": {
      "text/plain": [
       "[0, 4]"
      ]
     },
     "execution_count": 46,
     "metadata": {},
     "output_type": "execute_result"
    }
   ],
   "source": [
    "[i for i in range(5) if i%2==0 if i%4==0]"
   ]
  },
  {
   "cell_type": "markdown",
   "metadata": {},
   "source": [
    "### 다른 sequential DataType에는 되는것도 있고, 안되는 것도 있다."
   ]
  },
  {
   "cell_type": "code",
   "execution_count": 37,
   "metadata": {},
   "outputs": [
    {
     "name": "stdout",
     "output_type": "stream",
     "text": [
      "<generator object <genexpr> at 0x7f01783f82d0>\n"
     ]
    }
   ],
   "source": [
    "_tuple = ( i for i in range(10) )\n",
    "print(_tuple)"
   ]
  },
  {
   "cell_type": "code",
   "execution_count": 38,
   "metadata": {},
   "outputs": [
    {
     "name": "stdout",
     "output_type": "stream",
     "text": [
      "{0, 1, 2, 3, 4, 5, 6, 7, 8, 9}\n"
     ]
    }
   ],
   "source": [
    "_set = { i for i in range(10) }\n",
    "print(_set)"
   ]
  },
  {
   "cell_type": "code",
   "execution_count": 39,
   "metadata": {},
   "outputs": [
    {
     "name": "stdout",
     "output_type": "stream",
     "text": [
      "{0: 0, 1: 1, 2: 2, 3: 3, 4: 4, 5: 5, 6: 6, 7: 7, 8: 8, 9: 9}\n"
     ]
    }
   ],
   "source": [
    "_dict = { i:j for i,j in enumerate(range(10)) }\n",
    "print(_dict)"
   ]
  },
  {
   "cell_type": "markdown",
   "metadata": {},
   "source": [
    "# 함수만들기"
   ]
  },
  {
   "cell_type": "markdown",
   "metadata": {},
   "source": [
    "### input, output 둘 다 있는 경우나, 둘 다 없는 경우, output만 있는 경우 3가지가 있다."
   ]
  },
  {
   "cell_type": "markdown",
   "metadata": {},
   "source": [
    "#input 과 output 둘 다 있는 경우    \n",
    "def 함수(input):     \n",
    "    return output    \n",
    "\n",
    "#output만 있는 경우    \n",
    "def 함수():   \n",
    "    return output    \n",
    "\n",
    "#input만 있는 경우    \n",
    "def 함수(input):    \n",
    "    print(input)    \n",
    "\n",
    "#input output 둘 다 없는 경우     \n",
    "def 함수():     \n",
    "    print(\"실행\")     "
   ]
  },
  {
   "cell_type": "code",
   "execution_count": 42,
   "metadata": {},
   "outputs": [],
   "source": [
    "# 함수()\n",
    "# 변수 = 함수(input)"
   ]
  },
  {
   "cell_type": "code",
   "execution_count": 48,
   "metadata": {},
   "outputs": [
    {
     "name": "stdout",
     "output_type": "stream",
     "text": [
      "1\n",
      "<class 'int'>\n",
      "1\n",
      "<class 'str'>\n"
     ]
    }
   ],
   "source": [
    "number = 1 # input만 있는 함수\n",
    "\n",
    "def int_to_str(num):\n",
    "    string_num = str(num)\n",
    "    return string_num\n",
    "\n",
    "string_number = int_to_str(number)\n",
    "print(number)\n",
    "print(type(number))\n",
    "print(string_number)\n",
    "print(type(string_number))"
   ]
  },
  {
   "cell_type": "code",
   "execution_count": 49,
   "metadata": {},
   "outputs": [
    {
     "data": {
      "text/plain": [
       "1.6344280902167545"
      ]
     },
     "execution_count": 49,
     "metadata": {},
     "output_type": "execute_result"
    }
   ],
   "source": [
    "import random # output만 있는 함수\n",
    "\n",
    "def random_float():\n",
    "    randint_1 = random.randint(0,999999)\n",
    "    randint_2 = random.randint(0,999999)\n",
    "    return randint_1 / randint_2\n",
    "random_float()"
   ]
  },
  {
   "cell_type": "code",
   "execution_count": 50,
   "metadata": {},
   "outputs": [
    {
     "name": "stdout",
     "output_type": "stream",
     "text": [
      "김리나\n"
     ]
    }
   ],
   "source": [
    "# 둘 다 없는 함수\n",
    "def print_my_name():\n",
    "    print(\"김리나\")\n",
    "print_my_name()"
   ]
  },
  {
   "cell_type": "code",
   "execution_count": 51,
   "metadata": {},
   "outputs": [
    {
     "name": "stdout",
     "output_type": "stream",
     "text": [
      "김리나\n",
      "None\n"
     ]
    }
   ],
   "source": [
    "print(print_my_name())"
   ]
  },
  {
   "cell_type": "markdown",
   "metadata": {},
   "source": [
    "# 함수의 세계 - 비함수의 세계\n",
    "* 함수 안에 있는 함수를 '지역변수'\n",
    "* 함수 밖에 있는 변수를 '전역변수'\n",
    "* 전역변수는 지역변수에 영향을 미칠 수 있다"
   ]
  },
  {
   "cell_type": "code",
   "execution_count": 52,
   "metadata": {},
   "outputs": [
    {
     "name": "stdout",
     "output_type": "stream",
     "text": [
      "['난', '전', '역', '변', '수']\n",
      "['난', '전', '역', '변', '수', '난', '지', '역', '변', '수']\n"
     ]
    }
   ],
   "source": [
    "# 전역변수\n",
    "난전역변수 = [\"난\",\"전\",\"역\",\"변\",\"수\"]\n",
    "\n",
    "# 지역변수\n",
    "def check(): # global, nonglobal(?)\n",
    "    난지역변수 = [\"난\",\"지\",\"역\",\"변\",\"수\"] \n",
    "    난두개더한거 = 난전역변수 + 난지역변수\n",
    "    \n",
    "    return 난두개더한거\n",
    "check = check()\n",
    "print(난전역변수)\n",
    "print(check)"
   ]
  },
  {
   "cell_type": "markdown",
   "metadata": {},
   "source": [
    "# print(난지역변수)"
   ]
  },
  {
   "cell_type": "code",
   "execution_count": 54,
   "metadata": {},
   "outputs": [
    {
     "ename": "NameError",
     "evalue": "name '난두개더한거' is not defined",
     "output_type": "error",
     "traceback": [
      "\u001b[0;31m---------------------------------------------------------------------------\u001b[0m",
      "\u001b[0;31mNameError\u001b[0m                                 Traceback (most recent call last)",
      "\u001b[0;32m<ipython-input-54-acbf3d27e2cf>\u001b[0m in \u001b[0;36m<module>\u001b[0;34m\u001b[0m\n\u001b[0;32m----> 1\u001b[0;31m \u001b[0mprint\u001b[0m\u001b[0;34m(\u001b[0m\u001b[0m난두개더한거\u001b[0m\u001b[0;34m)\u001b[0m\u001b[0;34m\u001b[0m\u001b[0;34m\u001b[0m\u001b[0m\n\u001b[0m",
      "\u001b[0;31mNameError\u001b[0m: name '난두개더한거' is not defined"
     ]
    }
   ],
   "source": [
    "print(난두개더한거)"
   ]
  },
  {
   "cell_type": "markdown",
   "metadata": {},
   "source": [
    "# 인자의 특징\n",
    "* 인자를 여러개 넣을 수 있다\n",
    "* default값을 정해줄 수 있다"
   ]
  },
  {
   "cell_type": "code",
   "execution_count": 56,
   "metadata": {},
   "outputs": [
    {
     "name": "stdout",
     "output_type": "stream",
     "text": [
      "김리나 싹\n"
     ]
    }
   ],
   "source": [
    "def merge_word(a, b):\n",
    "    word = a + b\n",
    "    return word\n",
    "word = merge_word(\"김리나 \", \"싹\") # 순서만 지킨다면 a와 b가 무엇이라고 정확히 말안해도됨\n",
    "                                   # a = \"djkjf\", b = \"dsdf\" 꼭 이러지 않아도 됨\n",
    "print(word)"
   ]
  },
  {
   "cell_type": "code",
   "execution_count": 57,
   "metadata": {},
   "outputs": [
    {
     "name": "stdout",
     "output_type": "stream",
     "text": [
      "3\n"
     ]
    }
   ],
   "source": [
    "word = merge_word(1,2)\n",
    "print(word)"
   ]
  },
  {
   "cell_type": "code",
   "execution_count": 60,
   "metadata": {},
   "outputs": [],
   "source": [
    "def merge_word(a = \"기본\", b = \"단어\"):\n",
    "    word = a + b\n",
    "    if type(word) != str:\n",
    "        raise TypeError(\"a와 b는 문자여야 합니다\") # raise는 일부러 에어내줌\n",
    "    return word"
   ]
  },
  {
   "cell_type": "code",
   "execution_count": 61,
   "metadata": {},
   "outputs": [
    {
     "ename": "TypeError",
     "evalue": "a와 b는 문자여야 합니다",
     "output_type": "error",
     "traceback": [
      "\u001b[0;31m---------------------------------------------------------------------------\u001b[0m",
      "\u001b[0;31mTypeError\u001b[0m                                 Traceback (most recent call last)",
      "\u001b[0;32m<ipython-input-61-5a646fbf39bf>\u001b[0m in \u001b[0;36m<module>\u001b[0;34m\u001b[0m\n\u001b[0;32m----> 1\u001b[0;31m \u001b[0mword\u001b[0m \u001b[0;34m=\u001b[0m \u001b[0mmerge_word\u001b[0m\u001b[0;34m(\u001b[0m\u001b[0;36m1\u001b[0m\u001b[0;34m,\u001b[0m\u001b[0;36m2\u001b[0m\u001b[0;34m)\u001b[0m\u001b[0;34m\u001b[0m\u001b[0;34m\u001b[0m\u001b[0m\n\u001b[0m\u001b[1;32m      2\u001b[0m \u001b[0mprint\u001b[0m\u001b[0;34m(\u001b[0m\u001b[0mword\u001b[0m\u001b[0;34m)\u001b[0m\u001b[0;34m\u001b[0m\u001b[0;34m\u001b[0m\u001b[0m\n",
      "\u001b[0;32m<ipython-input-60-0754d7c59925>\u001b[0m in \u001b[0;36mmerge_word\u001b[0;34m(a, b)\u001b[0m\n\u001b[1;32m      2\u001b[0m     \u001b[0mword\u001b[0m \u001b[0;34m=\u001b[0m \u001b[0ma\u001b[0m \u001b[0;34m+\u001b[0m \u001b[0mb\u001b[0m\u001b[0;34m\u001b[0m\u001b[0;34m\u001b[0m\u001b[0m\n\u001b[1;32m      3\u001b[0m     \u001b[0;32mif\u001b[0m \u001b[0mtype\u001b[0m\u001b[0;34m(\u001b[0m\u001b[0mword\u001b[0m\u001b[0;34m)\u001b[0m \u001b[0;34m!=\u001b[0m \u001b[0mstr\u001b[0m\u001b[0;34m:\u001b[0m\u001b[0;34m\u001b[0m\u001b[0;34m\u001b[0m\u001b[0m\n\u001b[0;32m----> 4\u001b[0;31m         \u001b[0;32mraise\u001b[0m \u001b[0mTypeError\u001b[0m\u001b[0;34m(\u001b[0m\u001b[0;34m\"a와 b는 문자여야 합니다\"\u001b[0m\u001b[0;34m)\u001b[0m \u001b[0;31m# raise는 일부러 에어내줌\u001b[0m\u001b[0;34m\u001b[0m\u001b[0;34m\u001b[0m\u001b[0m\n\u001b[0m\u001b[1;32m      5\u001b[0m     \u001b[0;32mreturn\u001b[0m \u001b[0mword\u001b[0m\u001b[0;34m\u001b[0m\u001b[0;34m\u001b[0m\u001b[0m\n",
      "\u001b[0;31mTypeError\u001b[0m: a와 b는 문자여야 합니다"
     ]
    }
   ],
   "source": [
    "word = merge_word(1,2)\n",
    "print(word)"
   ]
  },
  {
   "cell_type": "code",
   "execution_count": 62,
   "metadata": {},
   "outputs": [],
   "source": [
    "def 난데코레이터(함수):\n",
    "    def decorator(*args):\n",
    "        print(\"Hello ~\")\n",
    "        리턴함수 = 함수(*args)\n",
    "        return 리턴함수\n",
    "    return decorator"
   ]
  },
  {
   "cell_type": "code",
   "execution_count": 63,
   "metadata": {},
   "outputs": [],
   "source": [
    "@난데코레이터\n",
    "def 난함수(a, b):\n",
    "    c = a * b\n",
    "    return c"
   ]
  },
  {
   "cell_type": "code",
   "execution_count": 64,
   "metadata": {},
   "outputs": [
    {
     "name": "stdout",
     "output_type": "stream",
     "text": [
      "Hello ~\n"
     ]
    },
    {
     "data": {
      "text/plain": [
       "2"
      ]
     },
     "execution_count": 64,
     "metadata": {},
     "output_type": "execute_result"
    }
   ],
   "source": [
    "난함수(1,2)"
   ]
  },
  {
   "cell_type": "markdown",
   "metadata": {},
   "source": [
    "# Class"
   ]
  },
  {
   "cell_type": "markdown",
   "metadata": {},
   "source": [
    "* OOP의 꽃이다.\n",
    "* class 안에 함수를 \"메소드\"라고 한다."
   ]
  },
  {
   "cell_type": "markdown",
   "metadata": {},
   "source": [
    "#클래스(객체)를 변수에 담는다   \n",
    "변수 = 클래스()\n",
    "#인스턴스.메소드()    \n",
    "변수.메소드()   \n",
    "#메소드와는 다르게 ()가 없는것    \n",
    "변수.클래스가가진변수"
   ]
  },
  {
   "cell_type": "code",
   "execution_count": null,
   "metadata": {},
   "outputs": [],
   "source": []
  }
 ],
 "metadata": {
  "kernelspec": {
   "display_name": "Python 3",
   "language": "python",
   "name": "python3"
  },
  "language_info": {
   "codemirror_mode": {
    "name": "ipython",
    "version": 3
   },
   "file_extension": ".py",
   "mimetype": "text/x-python",
   "name": "python",
   "nbconvert_exporter": "python",
   "pygments_lexer": "ipython3",
   "version": "3.7.6"
  }
 },
 "nbformat": 4,
 "nbformat_minor": 4
}
