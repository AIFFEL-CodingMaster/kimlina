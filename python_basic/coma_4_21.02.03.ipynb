{
 "cells": [
  {
   "cell_type": "markdown",
   "metadata": {},
   "source": [
    "# 공장\n",
    "* 속성 : 종류, 규모\n",
    "* 기능 : 생산, 포장"
   ]
  },
  {
   "cell_type": "code",
   "execution_count": 1,
   "metadata": {},
   "outputs": [],
   "source": [
    "class Factory:\n",
    "    \n",
    "    def __init__(self, kind, size):\n",
    "        self.kind = kind\n",
    "        self.size = size\n",
    "        \n",
    "    def make_production(self, what):\n",
    "        what = [what] * self.size\n",
    "        print(f\"{self.kind} 공장에서 생산을 합니다\")\n",
    "        return what\n",
    "    \n",
    "    def make_packing(self, what):\n",
    "        packing = { i:j for i, j in enumerate(what) }\n",
    "        print(f\"{self.kind} 포장을 합니다\")\n",
    "        return packing"
   ]
  },
  {
   "cell_type": "code",
   "execution_count": 2,
   "metadata": {},
   "outputs": [],
   "source": [
    "ice_cream_factory = Factory(\"아이스크림\", 10)"
   ]
  },
  {
   "cell_type": "code",
   "execution_count": 3,
   "metadata": {},
   "outputs": [
    {
     "name": "stdout",
     "output_type": "stream",
     "text": [
      "아이스크림 공장에서 생산을 합니다\n"
     ]
    }
   ],
   "source": [
    "screw_bar = ice_cream_factory.make_production([\"스크류바\"])"
   ]
  },
  {
   "cell_type": "code",
   "execution_count": 4,
   "metadata": {},
   "outputs": [
    {
     "name": "stdout",
     "output_type": "stream",
     "text": [
      "아이스크림 포장을 합니다\n"
     ]
    }
   ],
   "source": [
    "packing_screw_bar = ice_cream_factory.make_packing(screw_bar)"
   ]
  },
  {
   "cell_type": "code",
   "execution_count": 5,
   "metadata": {},
   "outputs": [
    {
     "data": {
      "text/plain": [
       "{0: ['스크류바'],\n",
       " 1: ['스크류바'],\n",
       " 2: ['스크류바'],\n",
       " 3: ['스크류바'],\n",
       " 4: ['스크류바'],\n",
       " 5: ['스크류바'],\n",
       " 6: ['스크류바'],\n",
       " 7: ['스크류바'],\n",
       " 8: ['스크류바'],\n",
       " 9: ['스크류바']}"
      ]
     },
     "execution_count": 5,
     "metadata": {},
     "output_type": "execute_result"
    }
   ],
   "source": [
    "packing_screw_bar"
   ]
  },
  {
   "cell_type": "markdown",
   "metadata": {},
   "source": [
    "## 모두의 연구소\n",
    "* 속성\n",
    "    * 풀잎스쿨\n",
    "    * 랩\n",
    "    * AIFFEL\n",
    "* 기능\n",
    "    * 풀잎스쿨모집\n",
    "    * 랩모집\n",
    "    * AIFFEL모집"
   ]
  },
  {
   "cell_type": "code",
   "execution_count": 12,
   "metadata": {},
   "outputs": [],
   "source": [
    "class Modulabs:\n",
    "    풀잎스쿨 = True\n",
    "    랩 = True\n",
    "    AIFFEL = True\n",
    "    풀잎멤버 = {}\n",
    "    랩멤버 = {}\n",
    "    AIFFEL멤버 = {}\n",
    "    \n",
    "    def 풀잎스쿨모집(self, name, member):\n",
    "        if self.풀잎스쿨 is False:\n",
    "            print(\"풀잎스쿨 모집기간이 아닙니다\")\n",
    "            while True:\n",
    "                yes_or_no = input(\"풀잎스쿨을 오픈하시겠습니까? : (y or n) \")\n",
    "                if yes_or_no == \"y\":\n",
    "                    print(\"풀잎스쿨 오픈\")\n",
    "                    self.풀잎스쿨 = True\n",
    "                    break\n",
    "                elif yes_or_no ==\"n\":\n",
    "                    print(\"풀잎스쿨 오픈 안함\")\n",
    "                    break\n",
    "        else:\n",
    "            if isinstance(member, list) is False:\n",
    "                raise ValueError(\"List 로 입력해주세요\")\n",
    "                \n",
    "        self.풀잎멤버[name] = member            \n",
    "        return self.풀잎멤버\n",
    "    \n",
    "    def 풀잎스쿨멤버추가(self, name, member):\n",
    "        if type(member) == str:\n",
    "            self.풀잎멤버[name].append(member)\n",
    "        elif type(member) == list:\n",
    "            self.풀잎멤버[name].extend(member)\n",
    "        returnself.풀잎멤버\n",
    "        \n",
    "    def 풀잎스쿨마감(self):\n",
    "        self.풀잎스쿨 = False\n",
    "        \n",
    "    def 랩모집(self):\n",
    "        pass\n",
    "    \n",
    "    def 랩마감(self):\n",
    "        self.랩 = False\n",
    "    \n",
    "    def AIFFEL모집(self):\n",
    "        pass\n",
    "    \n",
    "    def AIFFEL마감(self):\n",
    "        self.AIFFEL = False"
   ]
  },
  {
   "cell_type": "code",
   "execution_count": 7,
   "metadata": {},
   "outputs": [],
   "source": [
    "modulabs = Modulabs()"
   ]
  },
  {
   "cell_type": "code",
   "execution_count": 8,
   "metadata": {},
   "outputs": [
    {
     "data": {
      "text/plain": [
       "True"
      ]
     },
     "execution_count": 8,
     "metadata": {},
     "output_type": "execute_result"
    }
   ],
   "source": [
    "modulabs.풀잎스쿨"
   ]
  },
  {
   "cell_type": "code",
   "execution_count": 9,
   "metadata": {},
   "outputs": [
    {
     "data": {
      "text/plain": [
       "{}"
      ]
     },
     "execution_count": 9,
     "metadata": {},
     "output_type": "execute_result"
    }
   ],
   "source": [
    "modulabs.풀잎멤버"
   ]
  },
  {
   "cell_type": "code",
   "execution_count": 10,
   "metadata": {},
   "outputs": [],
   "source": [
    "풀잎스쿨 = modulabs.풀잎스쿨모집(\"코딩마스터\", [\"김리나\"])"
   ]
  },
  {
   "cell_type": "code",
   "execution_count": 11,
   "metadata": {},
   "outputs": [
    {
     "data": {
      "text/plain": [
       "{'코딩마스터': ['김리나']}"
      ]
     },
     "execution_count": 11,
     "metadata": {},
     "output_type": "execute_result"
    }
   ],
   "source": [
    "풀잎스쿨"
   ]
  },
  {
   "cell_type": "code",
   "execution_count": null,
   "metadata": {},
   "outputs": [],
   "source": [
    "modulabs.풀잎스쿨멤버추가(풀잎스쿨[\"코딩마스터\"], 추가할멤버)"
   ]
  },
  {
   "cell_type": "code",
   "execution_count": null,
   "metadata": {},
   "outputs": [],
   "source": [
    "list 추가는\n",
    ".append()\n",
    ".extend() # 다량추가"
   ]
  },
  {
   "cell_type": "code",
   "execution_count": 14,
   "metadata": {},
   "outputs": [
    {
     "ename": "AttributeError",
     "evalue": "'Modulabs' object has no attribute '풀잎스쿨멤버추가'",
     "output_type": "error",
     "traceback": [
      "\u001b[0;31m---------------------------------------------------------------------------\u001b[0m",
      "\u001b[0;31mAttributeError\u001b[0m                            Traceback (most recent call last)",
      "\u001b[0;32m<ipython-input-14-70f67fb7eb56>\u001b[0m in \u001b[0;36m<module>\u001b[0;34m\u001b[0m\n\u001b[0;32m----> 1\u001b[0;31m \u001b[0mmodulabs\u001b[0m\u001b[0;34m.\u001b[0m\u001b[0m풀잎스쿨멤버추가\u001b[0m\u001b[0;34m(\u001b[0m\u001b[0;34m\"코딩마스터\"\u001b[0m\u001b[0;34m,\u001b[0m\u001b[0;34m\"이상미\"\u001b[0m\u001b[0;34m)\u001b[0m\u001b[0;34m\u001b[0m\u001b[0;34m\u001b[0m\u001b[0m\n\u001b[0m",
      "\u001b[0;31mAttributeError\u001b[0m: 'Modulabs' object has no attribute '풀잎스쿨멤버추가'"
     ]
    }
   ],
   "source": [
    "modulabs.풀잎스쿨멤버추가(\"코딩마스터\",\"이상미\")"
   ]
  },
  {
   "cell_type": "markdown",
   "metadata": {},
   "source": [
    "## 클래스의 상속"
   ]
  },
  {
   "cell_type": "code",
   "execution_count": 15,
   "metadata": {},
   "outputs": [],
   "source": [
    "class Phone:\n",
    "    phone_book = {}\n",
    "    \n",
    "    def call_someone(self, someone, someone_number):\n",
    "        print(f\"{someone}에게 전화를 겁니다\")\n",
    "        print(f\"{someone_number}\")\n",
    "    \n",
    "    def save_phone_number(self, name, phone_number):\n",
    "        self.phone_book[name] = phone_number\n",
    "        print(\"저장 완료\")"
   ]
  },
  {
   "cell_type": "code",
   "execution_count": 16,
   "metadata": {},
   "outputs": [],
   "source": [
    "# Phone클래스 상속 받기\n",
    "class SmartPhone(Phone):\n",
    "    # 클래스 변수 영역\n",
    "    # 클래스가 기본적으로 가지는 속성\n",
    "    where = \"main\"\n",
    "    power = 'off'\n",
    "    app_list = [\"시계\", \"달력\", \"카메라\", \"사진첩\"]\n",
    "    internet = \"off\"\n",
    "    \n",
    "    # 생성자 -> 클래스를 변수에 할당하여 인스턴스화 할 때 생성되는 변수를 받는 것\n",
    "    # 인스턴스 변수 생성 - > 인스턴스가 되기 전까지는 이 변수는 \"미지수\"\n",
    "    def __init__(self, company, model, color, waterproof):\n",
    "        self.company = company,\n",
    "        self.model = model,\n",
    "        self.color = color,\n",
    "        self.waterpoof = True\n",
    "        # 회사가 Apple일 경우 앱스토어 추가, 아닐 경우 구글스토어 추가\n",
    "        if company == \"Apple\":\n",
    "            self.app_list.append(\"앱스토어\")\n",
    "        else:\n",
    "            self.app_list.append(\"구글스토어\")\n",
    "    \n",
    "    # 스마트폰의 전원을 키거나 끄거나하는 액션\n",
    "    def power_on_or_off(self):\n",
    "        # 실행 시, 전원이 꺼져있으면 켜고, 켜져있으면 끄는 기능 \n",
    "        if self.power =='off':\n",
    "            self.power = 'on'\n",
    "            print('전원이 켜졌습니다')\n",
    "        elif self.power =='on':\n",
    "            self.power = 'off'\n",
    "            print('전원이 꺼졌습니다.')\n",
    "    \n",
    "    # 나의 앱 리스트 보여주기\n",
    "    def show_my_apps(self):\n",
    "        print(f\"나의 Apps : {self.app_list}\")\n",
    "        return self.app_list\n",
    "    \n",
    "    def connect_internet(self):\n",
    "        self.internet == \"on\"\n",
    "    \n",
    "    def app_download(self, app_name):\n",
    "        # open 앱스토어 or 구글스토어\n",
    "        if self.company == \"Apple\":\n",
    "            self.where = \"앱스토어\"\n",
    "        else:\n",
    "            self.where = \"구글스토어\"\n",
    "        \n",
    "        if self.internet =='on' and self.powewr =='on':\n",
    "        # App을 다운로드하고 app_list에 저장\n",
    "            print(f'{app_name} 을 다운로드 합니다.')\n",
    "            self.app_list.append(app_name)\n",
    "            # App 목록을 반환해보겠습니다.\n",
    "            return self.app_list\n",
    "        \n",
    "        elif self.power =='off':\n",
    "        # 전원이 꺼져있는데 실행을 시도하면 RuntimeError를 내도록해보겠습니다.\n",
    "            raise RuntimeError('전원을 확인하세요')\n",
    "        \n",
    "        # 인터넷 연결이 없는데 시도하면 연결 후 다운로드 시도\n",
    "        elif self.internet =='off':\n",
    "            while True:\n",
    "                ask = input('인터넷 연결이 없습니다. 연결하시겠습니까? yes or no')\n",
    "                if ask =='yes':\n",
    "                    self.connect_internet()\n",
    "                    print(f'{app_name} 을 다운로드 합니다.')\n",
    "                    self.app_list.append(app_name)\n",
    "                    return app_name\n",
    "                    break\n",
    "                elif ask =='no':\n",
    "                    print('다운로드 실패')\n",
    "                    break\n",
    "    def back_to_main(self):\n",
    "        self.where = \"main\"\n",
    "    \n",
    "    # method overriding\n",
    "    def call_someone(self, someone, someone_number):\n",
    "        self.where =\"통화중\"\n",
    "        print(f\"{someone}에게 전화를 겁니다\")\n",
    "        print(f\"{someone_number}\")"
   ]
  },
  {
   "cell_type": "code",
   "execution_count": 17,
   "metadata": {},
   "outputs": [],
   "source": [
    "iphone = SmartPhone(\"Apple\", \"Iphone8\", \"black\", True)"
   ]
  },
  {
   "cell_type": "code",
   "execution_count": 18,
   "metadata": {},
   "outputs": [
    {
     "name": "stdout",
     "output_type": "stream",
     "text": [
      "김리나에게 전화를 겁니다\n",
      "010-1234-5678\n"
     ]
    }
   ],
   "source": [
    "iphone.call_someone(\"김리나\",\"010-1234-5678\")"
   ]
  },
  {
   "cell_type": "code",
   "execution_count": 19,
   "metadata": {},
   "outputs": [
    {
     "data": {
      "text/plain": [
       "'통화중'"
      ]
     },
     "execution_count": 19,
     "metadata": {},
     "output_type": "execute_result"
    }
   ],
   "source": [
    "iphone.where"
   ]
  },
  {
   "cell_type": "code",
   "execution_count": 20,
   "metadata": {},
   "outputs": [
    {
     "data": {
      "text/plain": [
       "{}"
      ]
     },
     "execution_count": 20,
     "metadata": {},
     "output_type": "execute_result"
    }
   ],
   "source": [
    "iphone.phone_book"
   ]
  },
  {
   "cell_type": "code",
   "execution_count": 21,
   "metadata": {},
   "outputs": [
    {
     "name": "stdout",
     "output_type": "stream",
     "text": [
      "저장 완료\n"
     ]
    }
   ],
   "source": [
    "# 부모클래스의 save_phone_number 메소드를 사용할 수 있음 -> 상속 받았기 때문\n",
    "iphone.save_phone_number(\"김리나\", \"010-1234-5678\")"
   ]
  },
  {
   "cell_type": "code",
   "execution_count": 22,
   "metadata": {},
   "outputs": [
    {
     "data": {
      "text/plain": [
       "{'김리나': '010-1234-5678'}"
      ]
     },
     "execution_count": 22,
     "metadata": {},
     "output_type": "execute_result"
    }
   ],
   "source": [
    "# 전화번호부에 저장이 되었음\n",
    "iphone.phone_book"
   ]
  },
  {
   "cell_type": "code",
   "execution_count": null,
   "metadata": {},
   "outputs": [],
   "source": []
  }
 ],
 "metadata": {
  "kernelspec": {
   "display_name": "Python 3",
   "language": "python",
   "name": "python3"
  },
  "language_info": {
   "codemirror_mode": {
    "name": "ipython",
    "version": 3
   },
   "file_extension": ".py",
   "mimetype": "text/x-python",
   "name": "python",
   "nbconvert_exporter": "python",
   "pygments_lexer": "ipython3",
   "version": "3.7.6"
  }
 },
 "nbformat": 4,
 "nbformat_minor": 4
}
