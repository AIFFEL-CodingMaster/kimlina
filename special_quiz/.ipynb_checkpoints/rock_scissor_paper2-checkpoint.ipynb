{
 "cells": [
  {
   "cell_type": "markdown",
   "metadata": {},
   "source": [
    "## 가위바위보 2"
   ]
  },
  {
   "cell_type": "code",
   "execution_count": null,
   "metadata": {},
   "outputs": [],
   "source": [
    "from random import randint\n",
    "n = int(input(\"몇 판 ?\"))\n",
    "\n",
    "# player_win, player lose, computer_win, computer_lose, draw =0, 0, 0, 0, 0\n",
    "\n",
    "player_win, player_lose = 0, 0\n",
    "computer_win, computer_lose = 0, 0\n",
    "draw = 0\n",
    "\n",
    "while n > 0:\n",
    "    player = input(\"가위 바위 보 ?!?! :\")\n",
    "    if player not in ['가위', '바위', '보']:\n",
    "        continue #반복문 맨 앞으로 다시 돌아감\n",
    "        # 컴퓨터가 무엇을 낼 것인지 랜덤으로 정한다\n",
    "    computer = randint(2,0) # 0 or 1 or 2\n",
    "    \n",
    "    # 컴퓨터가 낸 것과 비교하기 위해서\n",
    "    if player == '가위':\n",
    "        player = 0\n",
    "    elif player == '바위':\n",
    "        player = 1\n",
    "    else:\n",
    "        player = 2\n",
    "        \n",
    "    if player == computer:\n",
    "        print(\"경기 결과 : 비김 \")\n",
    "        draw += 1\n",
    "        \n",
    "     elif player == 0 and computer == 1:\n",
    "        print(\"컴퓨터 : 바위\")\n",
    "        print(\"경기 결과 : 컴퓨터 승\")\n",
    "        player_lose += 1\n",
    "        computer_win += 1\n",
    "\n",
    "    elif player == 0 and computer == 2:\n",
    "        print(\"컴퓨터 : 보\")\n",
    "        print(\"경기 결과 : 플레이어 승\")\n",
    "        player_win += 1\n",
    "        computer_lose += 1\n",
    "\n",
    "    elif player == 1 and computer == 0:\n",
    "        print(\"컴퓨터 : 가위\")\n",
    "        print(\"경기 결과 : 플레이어 승\")\n",
    "        player_win += 1\n",
    "        computer_lose += 1\n",
    "\n",
    "    elif player == 1 and computer == 2:\n",
    "        print(\"컴퓨터 : 보\")\n",
    "        print(\"경기 결과 : 컴퓨터 승\")\n",
    "        player_lose += 1\n",
    "        computer_win += 1\n",
    "\n",
    "    elif player == 2 and computer == 0:\n",
    "        print(\"컴퓨터 : 가위\")\n",
    "        print(\"경기 결과 : 컴퓨터 승\")\n",
    "        player_lose += 1\n",
    "        computer_win += 1\n",
    "\n",
    "    elif player == 2 and computer == 1:\n",
    "        print(\"컴퓨터 : 바위\")\n",
    "        print(\"경기 결과 : 플레이어 승\")\n",
    "        player_win += 1\n",
    "        computer_lose += 1\n",
    "        \n",
    "    print()\n",
    "    n -= 1\n",
    "\n",
    "print(f\"플레이어 {player_win}승 {draw}무 {player_lose}패\")\n",
    "print(f\"컴퓨터   {computer_win}승 {draw}무 {computer_lose}패\")"
   ]
  },
  {
   "cell_type": "code",
   "execution_count": null,
   "metadata": {},
   "outputs": [],
   "source": []
  }
 ],
 "metadata": {
  "kernelspec": {
   "display_name": "Python 3",
   "language": "python",
   "name": "python3"
  },
  "language_info": {
   "codemirror_mode": {
    "name": "ipython",
    "version": 3
   },
   "file_extension": ".py",
   "mimetype": "text/x-python",
   "name": "python",
   "nbconvert_exporter": "python",
   "pygments_lexer": "ipython3",
   "version": "3.7.6"
  }
 },
 "nbformat": 4,
 "nbformat_minor": 4
}
